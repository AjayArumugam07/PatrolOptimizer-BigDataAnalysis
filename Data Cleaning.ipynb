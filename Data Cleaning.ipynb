{
 "cells": [
  {
   "cell_type": "code",
   "execution_count": 4,
   "id": "a1ba28bb",
   "metadata": {},
   "outputs": [
    {
     "name": "stdout",
     "output_type": "stream",
     "text": [
      "Requirement already satisfied: pyspark in /Library/Frameworks/Python.framework/Versions/3.11/lib/python3.11/site-packages (3.5.0)\n",
      "Requirement already satisfied: py4j==0.10.9.7 in /Library/Frameworks/Python.framework/Versions/3.11/lib/python3.11/site-packages (from pyspark) (0.10.9.7)\n",
      "Note: you may need to restart the kernel to use updated packages.\n"
     ]
    }
   ],
   "source": [
    "pip install pyspark"
   ]
  },
  {
   "cell_type": "code",
   "execution_count": 5,
   "id": "b1ed4bea",
   "metadata": {},
   "outputs": [],
   "source": [
    "import warnings\n",
    "\n",
    "from pyspark.sql import SparkSession\n",
    "from pyspark.sql.functions import *\n",
    "\n",
    "import os"
   ]
  },
  {
   "cell_type": "code",
   "execution_count": 6,
   "id": "4f503683",
   "metadata": {},
   "outputs": [],
   "source": [
    "warnings.filterwarnings('ignore')"
   ]
  },
  {
   "cell_type": "code",
   "execution_count": 7,
   "id": "c2774d65",
   "metadata": {},
   "outputs": [
    {
     "name": "stdout",
     "output_type": "stream",
     "text": [
      "root\n",
      " |-- X: double (nullable = true)\n",
      " |-- Y: double (nullable = true)\n",
      " |-- OBJECTID: integer (nullable = true)\n",
      " |-- EVENT_UNIQUE_ID: string (nullable = true)\n",
      " |-- REPORT_DATE: string (nullable = true)\n",
      " |-- OCC_DATE: string (nullable = true)\n",
      " |-- REPORT_YEAR: integer (nullable = true)\n",
      " |-- REPORT_MONTH: string (nullable = true)\n",
      " |-- REPORT_DAY: integer (nullable = true)\n",
      " |-- REPORT_DOY: integer (nullable = true)\n",
      " |-- REPORT_DOW: string (nullable = true)\n",
      " |-- REPORT_HOUR: integer (nullable = true)\n",
      " |-- OCC_YEAR: integer (nullable = true)\n",
      " |-- OCC_MONTH: string (nullable = true)\n",
      " |-- OCC_DAY: integer (nullable = true)\n",
      " |-- OCC_DOY: integer (nullable = true)\n",
      " |-- OCC_DOW: string (nullable = true)\n",
      " |-- OCC_HOUR: integer (nullable = true)\n",
      " |-- DIVISION: string (nullable = true)\n",
      " |-- LOCATION_TYPE: string (nullable = true)\n",
      " |-- PREMISES_TYPE: string (nullable = true)\n",
      " |-- UCR_CODE: integer (nullable = true)\n",
      " |-- UCR_EXT: integer (nullable = true)\n",
      " |-- OFFENCE: string (nullable = true)\n",
      " |-- MCI_CATEGORY: string (nullable = true)\n",
      " |-- HOOD_158: string (nullable = true)\n",
      " |-- NEIGHBOURHOOD_158: string (nullable = true)\n",
      " |-- HOOD_140: string (nullable = true)\n",
      " |-- NEIGHBOURHOOD_140: string (nullable = true)\n",
      " |-- LONG_WGS84: double (nullable = true)\n",
      " |-- LAT_WGS84: double (nullable = true)\n",
      "\n"
     ]
    }
   ],
   "source": [
    "# Initialize Spark session\n",
    "spark = SparkSession.builder.appName(\"CrimePatrol\").getOrCreate()\n",
    "\n",
    "# Load dataset\n",
    "crime_data = spark.read.csv(\"Major_Crime_Indicators_Open_Data.csv\", header=True, inferSchema=True)\n",
    "\n",
    "# Explore the dataset\n",
    "crime_data.printSchema()\n"
   ]
  },
  {
   "cell_type": "code",
   "execution_count": 11,
   "id": "dab0a076",
   "metadata": {},
   "outputs": [],
   "source": [
    "#drop invalid entries\n",
    "\n",
    "#drop entries with latitude or longitued of 0 whicha re invalid in our data\n",
    "crime_data = crime_data.filter(crime_data[\"LAT_WGS84\"] != 0)\n",
    "crime_data = crime_data.filter(crime_data[\"LONG_WGS84\"] != 0)\n",
    "\n",
    "#drop entries that were inputted with an hour outside the 24 hr clock\n",
    "crime_data = crime_data.filter((col(\"OCC_HOUR\") >= 0) & (col(\"OCC_HOUR\") <= 23))\n",
    "\n",
    "#drop entries without a valid day of the week\n",
    "valid_days = [\"Monday\", \"Tuesday\", \"Wednesday\", \"Thursday\", \"Friday\", \"Saturday\", \"Sunday\"]\n",
    "crime_data = crime_data.filter(trim(crime_data[\"OCC_DOW\"]).isin(valid_days))\n",
    "\n",
    "\n",
    "crime_data.show(15)"
   ]
  },
  {
   "cell_type": "code",
   "execution_count": null,
   "id": "45f14a0a",
   "metadata": {},
   "outputs": [],
   "source": []
  }
 ],
 "metadata": {
  "kernelspec": {
   "display_name": "Python 3 (ipykernel)",
   "language": "python",
   "name": "python3"
  },
  "language_info": {
   "codemirror_mode": {
    "name": "ipython",
    "version": 3
   },
   "file_extension": ".py",
   "mimetype": "text/x-python",
   "name": "python",
   "nbconvert_exporter": "python",
   "pygments_lexer": "ipython3",
   "version": "3.11.3"
  }
 },
 "nbformat": 4,
 "nbformat_minor": 5
}
